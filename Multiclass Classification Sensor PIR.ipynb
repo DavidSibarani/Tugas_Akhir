{
 "cells": [
  {
   "cell_type": "markdown",
   "metadata": {},
   "source": [
    "# 1. Data Preparation"
   ]
  },
  {
   "cell_type": "code",
   "execution_count": null,
   "metadata": {
    "ExecuteTime": {
     "end_time": "2023-01-15T06:45:26.142382Z",
     "start_time": "2023-01-15T06:45:24.087880Z"
    }
   },
   "outputs": [],
   "source": [
    "\n",
    "import pandas as pd \n",
    "import numpy as np \n",
    "import os \n",
    "import warnings\n",
    "warnings.filterwarnings('ignore')\n",
    "pd.set_option('display.max_columns', 20) \n",
    "from sklearn import svm \n",
    "from sklearn.naive_bayes import GaussianNB \n",
    "from sklearn.ensemble import RandomForestClassifier \n",
    "from sklearn.model_selection import KFold\n",
    "from sklearn.model_selection import train_test_split, GridSearchCV \n",
    "from sklearn.preprocessing import LabelEncoder\n",
    "from sklearn.metrics import accuracy_score, precision_score, recall_score, roc_auc_score, confusion_matrix\n",
    "import matplotlib.pyplot as plt\n",
    "import seaborn as sns"
   ]
  },
  {
   "cell_type": "code",
   "execution_count": null,
   "metadata": {
    "ExecuteTime": {
     "end_time": "2023-01-15T06:45:26.157342Z",
     "start_time": "2023-01-15T06:45:26.144378Z"
    }
   },
   "outputs": [],
   "source": [
    "\n",
    "datapath = \"data training.csv\" \n",
    "if os.path.exists(datapath):\n",
    "    print(f\"data '{datapath}' sudah diupload\")\n",
    "else:\n",
    "    print(f\"data '{datapath}' belum diupload\")\n",
    "\n",
    "datapath_test = \"data testing.csv\" \n",
    "if os.path.exists(datapath_test):\n",
    "    print(f\"data '{datapath_test}' sudah diupload\")\n",
    "else:\n",
    "    print(f\"data '{datapath_test}' belum diupload\")"
   ]
  },
  {
   "cell_type": "code",
   "execution_count": null,
   "metadata": {
    "ExecuteTime": {
     "end_time": "2023-01-15T06:45:26.830541Z",
     "start_time": "2023-01-15T06:45:26.160337Z"
    }
   },
   "outputs": [],
   "source": [
    "\n",
    "data = pd.read_csv(datapath)\n",
    "data.head()"
   ]
  },
  {
   "cell_type": "code",
   "execution_count": null,
   "metadata": {
    "ExecuteTime": {
     "end_time": "2023-01-15T06:45:26.845503Z",
     "start_time": "2023-01-15T06:45:26.832536Z"
    }
   },
   "outputs": [],
   "source": [
    "\n",
    "data.shape"
   ]
  },
  {
   "cell_type": "code",
   "execution_count": null,
   "metadata": {
    "ExecuteTime": {
     "end_time": "2023-01-15T06:45:26.890382Z",
     "start_time": "2023-01-15T06:45:26.848496Z"
    }
   },
   "outputs": [],
   "source": [
    "\n",
    "missing = data.isnull().sum()\n",
    "for i in range(0, len(missing)-1):\n",
    "    if missing[i]>0: \n",
    "        print('pada kolom', missing.index[i], 'terdapat missing value sebanyak', missing[i])"
   ]
  },
  {
   "cell_type": "code",
   "execution_count": null,
   "metadata": {
    "ExecuteTime": {
     "end_time": "2023-01-15T06:45:27.099820Z",
     "start_time": "2023-01-15T06:45:26.891378Z"
    }
   },
   "outputs": [],
   "source": [
    "\n",
    "data = data.loc[~(data['Gerakan'].isnull())].reset_index().drop(columns=['index'])\n",
    "\n",
    "\n",
    "missing = data.isnull().sum()\n",
    "for i in range(0, len(missing)-1):\n",
    "    if missing[i]>0: \n",
    "        print('pada kolom', missing.index[i], 'terdapat missing value sebanyak', missing[i])\n",
    "\n",
    "print(data.shape)"
   ]
  },
  {
   "cell_type": "code",
   "execution_count": null,
   "metadata": {
    "ExecuteTime": {
     "end_time": "2023-01-15T06:45:27.129740Z",
     "start_time": "2023-01-15T06:45:27.100818Z"
    }
   },
   "outputs": [],
   "source": [
    "\n",
    "data.info()"
   ]
  },
  {
   "cell_type": "code",
   "execution_count": null,
   "metadata": {
    "ExecuteTime": {
     "end_time": "2023-01-15T06:45:27.683259Z",
     "start_time": "2023-01-15T06:45:27.132734Z"
    }
   },
   "outputs": [],
   "source": [
    "# 6. Check distribusi data\n",
    "data.describe()"
   ]
  },
  {
   "cell_type": "code",
   "execution_count": null,
   "metadata": {
    "ExecuteTime": {
     "end_time": "2023-01-15T06:45:27.698220Z",
     "start_time": "2023-01-15T06:45:27.685254Z"
    }
   },
   "outputs": [],
   "source": [
    "\n",
    "data['Gerakan'].value_counts()"
   ]
  },
  {
   "cell_type": "code",
   "execution_count": null,
   "metadata": {
    "ExecuteTime": {
     "end_time": "2023-01-15T06:45:27.877739Z",
     "start_time": "2023-01-15T06:45:27.699217Z"
    }
   },
   "outputs": [],
   "source": [
    "\n",
    "X = data.drop(columns=['Gerakan'])\n",
    "y = data['Gerakan']\n",
    "\n",
    "le = LabelEncoder()\n",
    "y_encoded = le.fit_transform(y)\n",
    "\n",
    "X_train, X_val, y_train, y_val = train_test_split(X, y_encoded, test_size=0.20, random_state=42)"
   ]
  },
  {
   "cell_type": "markdown",
   "metadata": {},
   "source": [
    "# 2. Model Training"
   ]
  },
  {
   "cell_type": "code",
   "execution_count": null,
   "metadata": {
    "ExecuteTime": {
     "end_time": "2023-01-15T06:52:05.839337Z",
     "start_time": "2023-01-15T06:48:46.349004Z"
    },
    "scrolled": false
   },
   "outputs": [],
   "source": [
    "\n",
    "models = {\"SVM\": {\"model\": svm.LinearSVC(penalty='l2', random_state=42),\n",
    "                 \"params\":{\"C\":[1,2]}},\n",
    "          \"Naive Bayes\": {\"model\": GaussianNB()},\n",
    "          \"Random Forest\": {\"model\": RandomForestClassifier(class_weight='balanced', random_state=42, max_depth=10),\n",
    "                            \"params\": {\"n_estimators\": [100, 200]}}\n",
    "         }\n",
    "scores = []\n",
    "for model_name, model_params in models.items():\n",
    "    model = model_params[\"model\"]\n",
    "    params = model_params.get(\"params\", {})\n",
    "    print(\"===\"*15)\n",
    "    print(f\"Training {model_name}\")\n",
    "    clf = GridSearchCV(model, params, cv=3, n_jobs=-1)\n",
    "    clf.fit(X_train, y_train)\n",
    "    print(f\"Best params {model_name} : {clf.best_params_}\")\n",
    "    y_pred = clf.predict(X_val)\n",
    "    \n",
    "  \n",
    "    accuracy = accuracy_score(y_val, y_pred)\n",
    "    precision = precision_score(y_val, y_pred, average='weighted')\n",
    "    recall = recall_score(y_val, y_pred, average='weighted')\n",
    "    cm = confusion_matrix(y_val, y_pred)\n",
    "    \n",
    "    scores.append({\"model\": model_name, \"accuracy\": accuracy, \"precision\": precision, \"recall\": recall})\n",
    "    print(f\"Accuracy: {np.round(accuracy,2)}\")\n",
    "    print(f\"Precision: {np.round(precision,2)}\")\n",
    "    print(f\"Sensitivity: {np.round(recall,2)}\")\n",
    "    \n",
    " \n",
    "    plt.figure()\n",
    "    plt.title(f\"{model_name} - Confusion Matrix\")\n",
    "    sns.heatmap(cm, annot=True, fmt=\"d\", xticklabels=le.classes_, yticklabels=le.classes_)\n",
    "    plt.show()"
   ]
  },
  {
   "cell_type": "markdown",
   "metadata": {},
   "source": [
    "# 3. Model Evaluation"
   ]
  },
  {
   "cell_type": "code",
   "execution_count": null,
   "metadata": {
    "ExecuteTime": {
     "end_time": "2023-01-15T06:58:15.649231Z",
     "start_time": "2023-01-15T06:58:15.626294Z"
    }
   },
   "outputs": [],
   "source": [
    "\n",
    "scores_df = pd.DataFrame(scores)\n",
    "scores_df"
   ]
  },
  {
   "cell_type": "markdown",
   "metadata": {},
   "source": [
    "Karena model terbaik adalah Random Forest Maka kita akan membuat Model Random Forest untuk di test pada data test"
   ]
  },
  {
   "cell_type": "code",
   "execution_count": null,
   "metadata": {
    "ExecuteTime": {
     "end_time": "2023-01-15T06:58:40.961507Z",
     "start_time": "2023-01-15T06:58:29.355559Z"
    }
   },
   "outputs": [],
   "source": [
    "from sklearn import svm \n",
    "from sklearn.naive_bayes import GaussianNB \n",
    "from sklearn.ensemble import RandomForestClassifier \n",
    "\n",
    "rf = RandomForestClassifier(class_weight='balanced', random_state=42, max_depth=10, n_estimators=100)\n",
    "rf.fit(X, y_encoded)\n",
    "\n",
    "nb = GaussianNB()\n",
    "nb.fit(X, y_encoded)\n",
    "\n",
    "svm = svm.LinearSVC(penalty='l2', random_state=42, C=1)\n",
    "svm.fit(X, y_encoded)"
   ]
  },
  {
   "cell_type": "code",
   "execution_count": null,
   "metadata": {
    "ExecuteTime": {
     "end_time": "2023-01-15T06:58:41.081183Z",
     "start_time": "2023-01-15T06:58:40.963500Z"
    }
   },
   "outputs": [],
   "source": [
    "data_test = pd.read_csv(datapath_test)"
   ]
  },
  {
   "cell_type": "code",
   "execution_count": null,
   "metadata": {
    "ExecuteTime": {
     "end_time": "2023-01-15T06:58:41.126063Z",
     "start_time": "2023-01-15T06:58:41.083180Z"
    }
   },
   "outputs": [],
   "source": [
    "\n",
    "data_test = data_test.loc[~(data_test['Gerakan'].isnull())].reset_index().drop(columns=['index'])\n",
    "\n",
    "\n",
    "missing = data_test.isnull().sum()\n",
    "for i in range(0, len(missing)-1):\n",
    "    if missing[i]>0: \n",
    "        print('pada kolom', missing.index[i], 'terdapat missing value sebanyak', missing[i])\n",
    "\n",
    "print(data_test.shape)"
   ]
  },
  {
   "cell_type": "code",
   "execution_count": null,
   "metadata": {
    "ExecuteTime": {
     "end_time": "2023-01-15T06:58:41.141024Z",
     "start_time": "2023-01-15T06:58:41.128059Z"
    }
   },
   "outputs": [],
   "source": [
    "\n",
    "X_test = data_test.drop(columns=['Gerakan'])\n",
    "y_test = data_test['Gerakan']\n",
    "\n",
    "\n",
    "y_test_encoded = le.fit_transform(y_test)"
   ]
  },
  {
   "cell_type": "code",
   "execution_count": null,
   "metadata": {
    "ExecuteTime": {
     "end_time": "2023-01-15T06:58:44.462139Z",
     "start_time": "2023-01-15T06:58:43.867729Z"
    }
   },
   "outputs": [],
   "source": [
    "y_pred = rf.predict(X_test)\n",
    "y_pred_proba = rf.predict_proba(X_test)\n",
    "\n",
    "\n",
    "accuracy = accuracy_score(y_test_encoded, y_pred)\n",
    "precision = precision_score(y_test_encoded, y_pred, average='weighted')\n",
    "recall = recall_score(y_test_encoded, y_pred, average='weighted')\n",
    "\n",
    "cm = confusion_matrix(y_test_encoded, y_pred)\n",
    "\n",
    "print(\"===\"*15)\n",
    "print(f\"Testing {model_name}\")\n",
    "print(f\"Accuracy: {np.round(accuracy,2)}\")\n",
    "print(f\"Precision: {np.round(precision,2)}\")\n",
    "print(f\"Recall: {np.round(recall,2)}\")\n",
    "\n",
    "\n",
    "\n",
    "plt.figure()\n",
    "plt.title(f\"{model_name} - Confusion Matrix\")\n",
    "sns.heatmap(cm, annot=True, fmt=\"d\", xticklabels=le.classes_, yticklabels=le.classes_)\n",
    "plt.show()"
   ]
  },
  {
   "cell_type": "code",
   "execution_count": null,
   "metadata": {},
   "outputs": [],
   "source": [
    "model_name  = 'SVM'\n",
    "y_pred = svm.predict(X_test)\n",
    "# y_pred_proba = svm.predict_proba(X_test)\n",
    "\n",
    "\n",
    "accuracy = accuracy_score(y_test_encoded, y_pred)\n",
    "precision = precision_score(y_test_encoded, y_pred, average='weighted')\n",
    "recall = recall_score(y_test_encoded, y_pred, average='weighted')\n",
    "# auc = roc_auc_score(y_test_encoded, y_pred_proba, multi_class='ovr')\n",
    "auc = roc_auc_score(y_test_encoded, y_pred)\n",
    "cm = confusion_matrix(y_test_encoded, y_pred)\n",
    "\n",
    "print(\"===\"*15)\n",
    "print(f\"Testing {model_name}\")\n",
    "print(f\"Accuracy: {np.round(accuracy,2)}\")\n",
    "print(f\"Precision: {np.round(precision,2)}\")\n",
    "print(f\"Recall: {np.round(recall,2)}\")\n",
    "print(f\"AUC: {np.round(auc,2)}\\n\")\n",
    "\n",
    "\n",
    "plt.figure()\n",
    "plt.title(f\"{model_name} - Confusion Matrix\")\n",
    "sns.heatmap(cm, annot=True, fmt=\"d\", xticklabels=le.classes_, yticklabels=le.classes_)\n",
    "plt.show()"
   ]
  },
  {
   "cell_type": "code",
   "execution_count": null,
   "metadata": {},
   "outputs": [],
   "source": [
    "model_name  = 'Naive Bayes'\n",
    "y_pred = nb.predict(X_test)\n",
    "y_pred_proba = nb.predict_proba(X_test)\n",
    "\n",
    "\n",
    "accuracy = accuracy_score(y_test_encoded, y_pred)\n",
    "precision = precision_score(y_test_encoded, y_pred, average='weighted')\n",
    "recall = recall_score(y_test_encoded, y_pred, average='weighted')\n",
    "# auc = roc_auc_score(y_test_encoded, y_pred_proba, multi_class='ovr')\n",
    "auc = roc_auc_score(y_test_encoded, y_pred)\n",
    "cm = confusion_matrix(y_test_encoded, y_pred)\n",
    "\n",
    "print(\"===\"*15)\n",
    "print(f\"Testing {model_name}\")\n",
    "print(f\"Accuracy: {np.round(accuracy,2)}\")\n",
    "print(f\"Precision: {np.round(precision,2)}\")\n",
    "print(f\"Recall: {np.round(recall,2)}\")\n",
    "print(f\"AUC: {np.round(auc,2)}\\n\")\n",
    "\n",
    "\n",
    "plt.figure()\n",
    "plt.title(f\"{model_name} - Confusion Matrix\")\n",
    "sns.heatmap(cm, annot=True, fmt=\"d\", xticklabels=le.classes_, yticklabels=le.classes_)\n",
    "plt.show()"
   ]
  }
 ],
 "metadata": {
  "kernelspec": {
   "display_name": "Python 3",
   "language": "python",
   "name": "python3"
  },
  "language_info": {
   "codemirror_mode": {
    "name": "ipython",
    "version": 3
   },
   "file_extension": ".py",
   "mimetype": "text/x-python",
   "name": "python",
   "nbconvert_exporter": "python",
   "pygments_lexer": "ipython3",
   "version": "3.10.9 (tags/v3.10.9:1dd9be6, Dec  6 2022, 20:01:21) [MSC v.1934 64 bit (AMD64)]"
  },
  "latex_envs": {
   "LaTeX_envs_menu_present": true,
   "autoclose": false,
   "autocomplete": true,
   "bibliofile": "biblio.bib",
   "cite_by": "apalike",
   "current_citInitial": 1,
   "eqLabelWithNumbers": true,
   "eqNumInitial": 1,
   "hotkeys": {
    "equation": "Ctrl-E",
    "itemize": "Ctrl-I"
   },
   "labels_anchors": false,
   "latex_user_defs": false,
   "report_style_numbering": false,
   "user_envs_cfg": false
  },
  "vscode": {
   "interpreter": {
    "hash": "2df53de82fe139b23b9a340061c8527273b7fa86551030a1983ff618b17018eb"
   }
  }
 },
 "nbformat": 4,
 "nbformat_minor": 4
}
